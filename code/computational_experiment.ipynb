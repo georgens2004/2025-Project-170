{
  "nbformat": 4,
  "nbformat_minor": 0,
  "metadata": {
    "colab": {
      "provenance": [],
      "gpuType": "T4"
    },
    "kernelspec": {
      "name": "python3",
      "display_name": "Python 3"
    },
    "language_info": {
      "name": "python"
    },
    "accelerator": "GPU"
  },
  "cells": [
    {
      "cell_type": "code",
      "execution_count": null,
      "metadata": {
        "id": "iyvC3N9fAcFi"
      },
      "outputs": [],
      "source": [
        "import os\n",
        "import random\n",
        "import math\n",
        "from PIL import Image, ImageOps, ImageFilter\n",
        "\n",
        "import numpy as np\n",
        "import torch\n",
        "import torch.nn as nn\n",
        "from torch.utils.data import Dataset, DataLoader\n",
        "import torchvision\n",
        "import torchvision.transforms as transforms\n",
        "from torchvision.transforms.functional import to_pil_image\n",
        "from tensorflow.keras.utils import load_img, img_to_array\n",
        "\n",
        "import kagglehub\n",
        "import matplotlib.pyplot as plt\n",
        "\n",
        "from warnings import filterwarnings\n",
        "from IPython.display import clear_output\n",
        "from tqdm import tqdm\n",
        "\n",
        "filterwarnings('ignore')"
      ]
    },
    {
      "cell_type": "code",
      "source": [
        "def save_to_drive(filepath):\n",
        "    !cp -r $filepath drive/MyDrive/Colab/170/\n",
        "\n",
        "DATASETS_FOLDER = \"datasets\"\n",
        "\n",
        "device = torch.device('cuda' if torch.cuda.is_available() else 'cpu')\n",
        "print(device)"
      ],
      "metadata": {
        "id": "UaX4GtOBUNxO",
        "colab": {
          "base_uri": "https://localhost:8080/"
        },
        "outputId": "f3c56681-7875-42f7-847e-45c1dd2f64d3"
      },
      "execution_count": null,
      "outputs": [
        {
          "output_type": "stream",
          "name": "stdout",
          "text": [
            "cuda\n"
          ]
        }
      ]
    },
    {
      "cell_type": "code",
      "source": [
        "'''\n",
        "#####\n",
        "Adapted from https://github.com/facebookresearch/barlowtwins\n",
        "and mostly taken from https://github.com/MaxLikesMath/Barlow-Twins-Pytorch\n",
        "#####\n",
        "'''\n",
        "\n",
        "\n",
        "class GaussianBlur(object):\n",
        "    def __init__(self, p):\n",
        "        self.p = p\n",
        "\n",
        "    def __call__(self, img):\n",
        "        if random.random() < self.p:\n",
        "            sigma = random.random() * 1.9 + 0.1\n",
        "            return img.filter(ImageFilter.GaussianBlur(sigma))\n",
        "        else:\n",
        "            return img\n",
        "\n",
        "\n",
        "class Solarization(object):\n",
        "    def __init__(self, p):\n",
        "        self.p = p\n",
        "\n",
        "    def __call__(self, img):\n",
        "        if random.random() < self.p:\n",
        "            return ImageOps.solarize(img)\n",
        "        else:\n",
        "            return img\n",
        "\n",
        "\n",
        "class Transform:\n",
        "    def __init__(self, transform=None, transform_prime=None):\n",
        "        '''\n",
        "\n",
        "        :param transform: Transforms to be applied to first input\n",
        "        :param transform_prime: transforms to be applied to second\n",
        "        '''\n",
        "        if transform == None:\n",
        "            self.transform = transforms.Compose([\n",
        "                transforms.RandomResizedCrop(224, interpolation=Image.BICUBIC),\n",
        "                transforms.RandomHorizontalFlip(p=0.5),\n",
        "                transforms.RandomApply(\n",
        "                    [transforms.ColorJitter(brightness=0.4, contrast=0.4,\n",
        "                                            saturation=0.2, hue=0.1)],\n",
        "                    p=0.8\n",
        "                ),\n",
        "                transforms.RandomGrayscale(p=0.2),\n",
        "                GaussianBlur(p=1.0),\n",
        "                Solarization(p=0.0),\n",
        "                transforms.ToTensor(),\n",
        "                transforms.Normalize(mean=[0.485, 0.456, 0.406],\n",
        "                                     std=[0.229, 0.224, 0.225])\n",
        "            ])\n",
        "        else:\n",
        "            self.transform = transform\n",
        "        if transform_prime == None:\n",
        "\n",
        "            self.transform_prime = transforms.Compose([\n",
        "                transforms.RandomResizedCrop(224, interpolation=Image.BICUBIC),\n",
        "                transforms.RandomHorizontalFlip(p=0.5),\n",
        "                transforms.RandomApply(\n",
        "                    [transforms.ColorJitter(brightness=0.4, contrast=0.4,\n",
        "                                            saturation=0.2, hue=0.1)],\n",
        "                    p=0.8\n",
        "                ),\n",
        "                transforms.RandomGrayscale(p=0.2),\n",
        "                GaussianBlur(p=0.1),\n",
        "                Solarization(p=0.2),\n",
        "                transforms.ToTensor(),\n",
        "                transforms.Normalize(mean=[0.485, 0.456, 0.406],\n",
        "                                     std=[0.229, 0.224, 0.225])\n",
        "            ])\n",
        "        else:\n",
        "            self.transform_prime = transform_prime\n",
        "\n",
        "    def __call__(self, x):\n",
        "        y1 = self.transform(x)\n",
        "        y2 = self.transform_prime(x)\n",
        "        return torch.cat((y1.unsqueeze(0), y2.unsqueeze(0)))\n"
      ],
      "metadata": {
        "id": "73FmlS6LSiE5"
      },
      "execution_count": null,
      "outputs": []
    },
    {
      "cell_type": "code",
      "source": [
        "'''\n",
        "Implementation of Barlow Twins (https://arxiv.org/abs/2103.03230), adapted for ease of use for experiments from\n",
        "https://github.com/facebookresearch/barlowtwins, with some modifications using code from\n",
        "https://github.com/lucidrains/byol-pytorch\n",
        "\n",
        "Mostly taken from https://github.com/MaxLikesMath/Barlow-Twins-Pytorch\n",
        "'''\n",
        "\n",
        "def flatten(t):\n",
        "    return t.reshape(t.shape[0], -1)\n",
        "\n",
        "class NetWrapper(nn.Module):\n",
        "    # from https://github.com/lucidrains/byol-pytorch\n",
        "    def __init__(self, net, layer = -2):\n",
        "        super().__init__()\n",
        "        self.net = net\n",
        "        self.layer = layer\n",
        "\n",
        "        self.hidden = None\n",
        "        self.hook_registered = False\n",
        "\n",
        "    def _find_layer(self):\n",
        "        if type(self.layer) == str:\n",
        "            modules = dict([*self.net.named_modules()])\n",
        "            return modules.get(self.layer, None)\n",
        "        elif type(self.layer) == int:\n",
        "            children = [*self.net.children()]\n",
        "            return children[self.layer]\n",
        "        return None\n",
        "\n",
        "    def _hook(self, _, __, output):\n",
        "        self.hidden = flatten(output)\n",
        "\n",
        "    def _register_hook(self):\n",
        "        layer = self._find_layer()\n",
        "        assert layer is not None, f'hidden layer ({self.layer}) not found'\n",
        "        handle = layer.register_forward_hook(self._hook)\n",
        "        self.hook_registered = True\n",
        "\n",
        "    def get_representation(self, x):\n",
        "        if self.layer == -1:\n",
        "            return self.net(x)\n",
        "\n",
        "        if not self.hook_registered:\n",
        "            self._register_hook()\n",
        "\n",
        "        _ = self.net(x)\n",
        "        hidden = self.hidden\n",
        "        self.hidden = None\n",
        "        assert hidden is not None, f'hidden layer {self.layer} never emitted an output'\n",
        "        return hidden\n",
        "\n",
        "    def forward(self, x):\n",
        "        representation = self.get_representation(x)\n",
        "\n",
        "        return representation\n",
        "\n",
        "\n",
        "def off_diagonal(x):\n",
        "    # return a flattened view of the off-diagonal elements of a square matrix\n",
        "    n, m = x.shape\n",
        "    assert n == m\n",
        "    return x.flatten()[:-1].view(n - 1, n + 1)[:, 1:].flatten()\n",
        "\n",
        "\n",
        "class BarlowTwins(nn.Module):\n",
        "    '''\n",
        "    Adapted from https://github.com/facebookresearch/barlowtwins for arbitrary backbones, and arbitrary choice of whic  h\n",
        "    latent representation to use. Designed for models which can fit on a single GPU (though training can be parallelized\n",
        "    across multiple as with any other model). Support for larger models can be done easily for individual use cases by\n",
        "    by following PyTorch's model parallelism best practices.\n",
        "    '''\n",
        "    def __init__(self, backbone, latent_id, projection_sizes, lambd, scale_factor=1):\n",
        "        '''\n",
        "\n",
        "        :param backbone: Model backbone\n",
        "        :param latent_id: name (or index) of the layer to be fed to the projection MLP\n",
        "        :param projection_sizes: size of the hidden layers in the projection MLP\n",
        "        :param lambd: tradeoff function\n",
        "        :param scale_factor: Factor to scale loss by, default is 1\n",
        "        '''\n",
        "        super().__init__()\n",
        "        self.backbone = backbone\n",
        "        self.backbone = NetWrapper(self.backbone, latent_id)\n",
        "        self.lambd = lambd\n",
        "        self.scale_factor = scale_factor\n",
        "        # projector\n",
        "        sizes = projection_sizes\n",
        "        layers = []\n",
        "        for i in range(len(sizes) - 2):\n",
        "            layers.append(nn.Linear(sizes[i], sizes[i + 1], bias=False))\n",
        "            layers.append(nn.BatchNorm1d(sizes[i + 1]))\n",
        "            layers.append(nn.ReLU(inplace=True))\n",
        "        if len(sizes) >= 2:\n",
        "          layers.append(nn.Linear(sizes[-2], sizes[-1], bias=False))\n",
        "        self.projector = nn.Sequential(*layers)\n",
        "\n",
        "        # normalization layer for the representations z1 and z2\n",
        "        self.bn = nn.BatchNorm1d(sizes[-1], affine=False)\n",
        "\n",
        "    def forward(self, y1, y2):\n",
        "        z1 = self.backbone(y1)\n",
        "        z2 = self.backbone(y2)\n",
        "        z1 = self.projector(z1)\n",
        "        z2 = self.projector(z2)\n",
        "\n",
        "        # empirical cross-correlation matrix\n",
        "        c = torch.mm(self.bn(z1).T, self.bn(z2))\n",
        "        c.div_(z1.shape[0])\n",
        "\n",
        "        # use --scale-loss to multiply the loss by a constant factor\n",
        "        on_diag = torch.diagonal(c).add_(-1).pow_(2).sum()\n",
        "        off_diag = off_diagonal(c).pow_(2).sum()\n",
        "        loss = self.scale_factor*(on_diag + self.lambd * off_diag)\n",
        "        return loss\n",
        "\n",
        "    def adjust_learning_rate(self, optimizer, epoch, epochs):\n",
        "        start_lr = 5e-3\n",
        "        end_lr = 5e-4\n",
        "\n",
        "        coef = 0.5 * (1 + math.cos(math.pi * epoch / epochs))\n",
        "        lr = start_lr * coef + end_lr * (1 - coef)\n",
        "        for param_group in optimizer.param_groups:\n",
        "            param_group['lr'] = lr\n",
        "\n",
        "    def train_head(self, train_dataloader, validation_dataloader,\n",
        "                   optimizer, epochs=20):\n",
        "        '''\n",
        "        Training projector with frozen backbone's weights\n",
        "\n",
        "        train_dataloader: dataloader for train samples\n",
        "        validation_dataloader: dataloader for validation samples\n",
        "        optimizer: gradient descent optimizer\n",
        "        '''\n",
        "        device = torch.device('cuda' if torch.cuda.is_available() else 'cpu')\n",
        "        self.to(device)\n",
        "        print(\"Training on\", device)\n",
        "        self.backbone.requires_grad_(False)\n",
        "        train_losses = []\n",
        "        validation_losses = []\n",
        "        for epoch in tqdm(range(epochs)):\n",
        "            total_train_loss = 0\n",
        "            for batch_idx, x in enumerate(train_dataloader):\n",
        "                x = x.to(device)\n",
        "                x1 = x[:, 0, :, :, :]\n",
        "                x2 = x[:, 1, :, :, :]\n",
        "                loss = self.forward(x1, x2)\n",
        "                total_train_loss = (total_train_loss * batch_idx + loss.item()) / (batch_idx + 1)\n",
        "                self.adjust_learning_rate(optimizer, epoch, epochs)\n",
        "                optimizer.zero_grad()\n",
        "                loss.backward()\n",
        "                optimizer.step()\n",
        "            total_validation_loss = 0\n",
        "            for batch_idx, x in enumerate(validation_dataloader):\n",
        "                x = x.to(device)\n",
        "                x1 = x[:, 0, :, :, :]\n",
        "                x2 = x[:, 1, :, :, :]\n",
        "                loss = self.forward(x1, x2)\n",
        "                total_validation_loss = (total_validation_loss * batch_idx + loss.item()) / (batch_idx + 1)\n",
        "            if epoch == 0:\n",
        "                continue\n",
        "            train_losses.append(total_train_loss)\n",
        "            validation_losses.append(total_validation_loss)\n",
        "            clear_output()\n",
        "            plt.figure(figsize=(10, 6))\n",
        "            plt.plot(train_losses, color='blue', label=\"train\")\n",
        "            plt.plot(validation_losses, color='orange', label=\"validation\")\n",
        "            plt.title(\"Training head\")\n",
        "            plt.xlabel('Epoch')\n",
        "            plt.ylabel('Loss')\n",
        "            plt.grid(True)\n",
        "            plt.legend()\n",
        "            plt.show()\n",
        "        return train_losses, validation_losses\n"
      ],
      "metadata": {
        "id": "GSVfv4wiBZlG"
      },
      "execution_count": null,
      "outputs": []
    },
    {
      "cell_type": "code",
      "source": [
        "class ImageDataset(Dataset):\n",
        "    '''\n",
        "    Simple torch dataset class for images\n",
        "    '''\n",
        "    def __init__(self, image_array, transform=None):\n",
        "        self.image_array = image_array\n",
        "        self.transform = transform\n",
        "\n",
        "    def __len__(self):\n",
        "        return len(self.image_array)\n",
        "\n",
        "    def __getitem__(self, idx):\n",
        "        if self.transform:\n",
        "            return self.transform(self.image_array[idx])\n",
        "        return self.image_array[idx]\n",
        "\n",
        "\n",
        "def load_images(folder_path, count):\n",
        "    '''\n",
        "    Loads images from the folder\n",
        "    and store them as a list of PIL images\n",
        "    '''\n",
        "    transform = transforms.Compose([\n",
        "        transforms.Resize((224, 224)),\n",
        "        transforms.ToTensor(),\n",
        "    ])\n",
        "    images = []\n",
        "    folder_path = DATASETS_FOLDER + \"/\" + folder_path\n",
        "    for file_name in os.listdir(folder_path):\n",
        "        file_path = os.path.join(folder_path, file_name)\n",
        "        if file_name.lower().endswith(('.png', '.jpg', '.jpeg')):\n",
        "            img = Image.open(file_path).convert('RGB')\n",
        "            img_tensor = transform(img)\n",
        "            images.append(img_tensor)\n",
        "        if len(images) == count:\n",
        "            break\n",
        "    return images\n",
        "\n",
        "\n",
        "def download_blood_cells_dataset():\n",
        "    '''\n",
        "    Downloads blood cells dataset\n",
        "    https://www.kaggle.com/datasets/paultimothymooney/blood-cells\n",
        "    Stores it locally in DATASETS_FOLDER\n",
        "\n",
        "    Name: 'blood-cells'\n",
        "    '''\n",
        "    if not os.path.exists(DATASETS_FOLDER + \"/blood-cells\"):\n",
        "        print(\"Downloading blood-cells dataset\")\n",
        "        download_path = kagglehub.dataset_download(\"paultimothymooney/blood-cells\")\n",
        "        print(\"Download path:\", download_path)\n",
        "        !cp -r $download_path $DATASETS_FOLDER\n",
        "        !cp -r $DATASETS_FOLDER/6/dataset2-master/dataset2-master/images/TRAIN/LYMPHOCYTE $DATASETS_FOLDER\n",
        "        !mv $DATASETS_FOLDER/LYMPHOCYTE $DATASETS_FOLDER/blood-cells\n",
        "        !rm -r $DATASETS_FOLDER/6 $download_path\n",
        "        print(\"Finished\")\n",
        "    else:\n",
        "        print(\"Found local blood-cells dataset\")\n",
        "\n"
      ],
      "metadata": {
        "id": "5Uf5Xzo9NQTP"
      },
      "execution_count": null,
      "outputs": []
    },
    {
      "cell_type": "code",
      "source": [
        "resnet_model = torch.hub.load('facebookresearch/barlowtwins:main', 'resnet50')\n",
        "\n",
        "barlow_twins = BarlowTwins(resnet_model, 'avgpool', [2048, 1024, 1024],\n",
        "                      3.9e-3, 1)\n"
      ],
      "metadata": {
        "colab": {
          "base_uri": "https://localhost:8080/"
        },
        "id": "lLpQNKxmIMil",
        "outputId": "8e312a08-0155-4698-be90-39e47d4fe1ab"
      },
      "execution_count": null,
      "outputs": [
        {
          "output_type": "stream",
          "name": "stderr",
          "text": [
            "Using cache found in /root/.cache/torch/hub/facebookresearch_barlowtwins_main\n"
          ]
        }
      ]
    },
    {
      "cell_type": "markdown",
      "source": [
        "## Experiment: Blood Cells Dataset\n",
        "\n",
        "### Training model head (256 images, 180 epochs)\n",
        "\n",
        "Train: 256 images\n",
        "\n",
        "Validation: 64 images\n"
      ],
      "metadata": {
        "id": "c_TsttONbQbz"
      }
    },
    {
      "cell_type": "code",
      "source": [
        "download_blood_cells_dataset()\n",
        "blood_cells_images = load_images(\"blood-cells\", 256 + 64)\n",
        "\n",
        "for i in range(len(blood_cells_images)):\n",
        "    blood_cells_images[i] = to_pil_image(blood_cells_images[i])\n",
        "\n",
        "blood_cells_train = blood_cells_images[:256]\n",
        "blood_cells_validation = blood_cells_images[256:]\n",
        "\n",
        "train_dataset = ImageDataset(blood_cells_train,\n",
        "                       transform=Transform())\n",
        "validation_dataset = ImageDataset(blood_cells_validation,\n",
        "                       transform=Transform())\n",
        "\n",
        "train_dataloader = DataLoader(train_dataset, batch_size=64, shuffle=True)\n",
        "validation_dataloader = DataLoader(validation_dataset, batch_size=32, shuffle=True)\n"
      ],
      "metadata": {
        "colab": {
          "base_uri": "https://localhost:8080/"
        },
        "id": "E6hxSH8RJGPK",
        "outputId": "806459c1-58e2-447f-bbbc-d5933d5e977a"
      },
      "execution_count": null,
      "outputs": [
        {
          "output_type": "stream",
          "name": "stdout",
          "text": [
            "Found local blood-cells dataset\n"
          ]
        }
      ]
    },
    {
      "cell_type": "code",
      "source": [
        "optimizer = torch.optim.Adam(barlow_twins.parameters())\n",
        "\n",
        "train_losses, validation_losses = barlow_twins.train_head(\n",
        "    train_dataloader,\n",
        "    validation_dataloader,\n",
        "    optimizer,\n",
        "    epochs=180\n",
        ")\n"
      ],
      "metadata": {
        "colab": {
          "base_uri": "https://localhost:8080/",
          "height": 581
        },
        "id": "rQzsRvSsTOEJ",
        "outputId": "460d8b4f-2b82-4241-857c-874783acaeb7"
      },
      "execution_count": null,
      "outputs": [
        {
          "output_type": "display_data",
          "data": {
            "text/plain": [
              "<Figure size 1000x600 with 1 Axes>"
            ],
            "image/png": "[encoded data removed]"
          },
          "metadata": {}
        },
        {
          "output_type": "stream",
          "name": "stderr",
          "text": [
            "100%|██████████| 180/180 [22:07<00:00,  7.37s/it]\n"
          ]
        }
      ]
    },
    {
      "cell_type": "code",
      "source": [
        "'''\n",
        "torch.save(barlow_twins.state_dict(), \"BT_blood-cells-256_180ep.pth\")\n",
        "np.save(\"BT_blood-cells-256_0-180ep_train_loss\", train_losses)\n",
        "np.save(\"BT_blood-cells-256_0-180ep_validation_loss\", validation_losses)\n",
        "\n",
        "save_to_drive(\"BT_blood-cells-256_180ep.pth\")\n",
        "save_to_drive(\"BT_blood-cells-256_0-180ep_train_loss.npy\")\n",
        "save_to_drive(\"BT_blood-cells-256_0-180ep_validation_loss.npy\")\n",
        "'''"
      ],
      "metadata": {
        "id": "VDa8ppRKabWh"
      },
      "execution_count": null,
      "outputs": []
    },
    {
      "cell_type": "code",
      "source": [
        "'''\n",
        "plt.figure(figsize=(12, 7))\n",
        "\n",
        "plt.plot(train_losses, color='blue', label='Train')\n",
        "plt.plot(validation_losses, color='orange', label='Validation')\n",
        "plt.xlabel('Epoch', fontsize=16)\n",
        "plt.ylabel('Loss', fontsize=16)\n",
        "plt.tick_params(labelsize=12)\n",
        "\n",
        "plt.grid(True)\n",
        "plt.legend(fontsize=14)\n",
        "plt.show()\n",
        "'''"
      ],
      "metadata": {
        "id": "pAVh7EY_wEAS"
      },
      "execution_count": null,
      "outputs": []
    }
  ]
}